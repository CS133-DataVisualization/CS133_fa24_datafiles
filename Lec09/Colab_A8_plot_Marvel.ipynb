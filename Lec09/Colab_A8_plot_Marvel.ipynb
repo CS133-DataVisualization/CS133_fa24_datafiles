{
  "cells": [
    {
      "cell_type": "markdown",
      "metadata": {
        "id": "EE6mFjk24JlN"
      },
      "source": [
        "<img src=\"https://pm1.narvii.com/5887/02b61b74eaec1060b56a3fcfed42ecc24a457a2e_hq.jpg\">\n",
        "\n",
        "In this hands-on, we will use the Marvel dataset to practice using different plots to visualize distributions of values between groups. You are free to come up with you own questions and use one of the categorical plots to help answer each question. You are also free to build your own dataframe that contains a specific subset of the data to help you answer your questions.\n",
        "\n",
        "The dataset is in https://raw.githubusercontent.com/csbfx/advpy122-data/master/marvel-wikia-data.csv\n",
        "\n",
        "Data source: https://github.com/fivethirtyeight/data/tree/master/comic-characters"
      ]
    },
    {
      "cell_type": "markdown",
      "metadata": {
        "id": "rU9_QdwC4JlR"
      },
      "source": [
        "| Variable |\tDefinition |\n",
        "| :------- | :-\n",
        "|page_id|\tThe unique identifier for that characters page within the wikia\n",
        "|name|\tThe name of the character\n",
        "|urlslug|\tThe unique url within the wikia that takes you to the character\n",
        "|ID|\tThe identity status of the character (Secret Identity, Public identity, [on marvel only: No Dual Identity])\n",
        "|ALIGN|\tIf the character is Good, Bad or Neutral\n",
        "|EYE|\tEye color of the character\n",
        "|HAIR|\tHair color of the character\n",
        "|SEX|\tSex of the character (e.g. Male, Female, etc.)\n",
        "|GSM|\tIf the character is a gender or sexual minority (e.g. Homosexual characters, bisexual characters)\n",
        "|ALIVE|\tIf the character is alive or deceased\n",
        "|APPEARANCES|\tThe number of appareances of the character in comic books (as of Sep. 2, 2014. Number will become increasingly out of date as time goes on.)\n",
        "|FIRST APPEARANCE|\tThe month and year of the character's first appearance in a comic book, if available\n",
        "|YEAR|\tThe year of the character's first appearance in a comic book, if available"
      ]
    },
    {
      "cell_type": "markdown",
      "metadata": {
        "id": "YRbdDGK-4JlR"
      },
      "source": [
        "## Q1. How big is this dataset?\n",
        "Use pandas to find out the number of rows and columns."
      ]
    },
    {
      "cell_type": "markdown",
      "metadata": {
        "id": "-eZ92BO54JlS"
      },
      "source": [
        "## Q2. Strip plots\n",
        "Come up with a question using this dataset and use a `strip` plot to help answer the question. State your question in a markdown cell. Recall that a `strip` plot is a categorical plot where one axis is category and the other is a continuous variable. Set the appropriate arguments to make the plot more readable. Be sure to include a meaning title for the plot."
      ]
    },
    {
      "cell_type": "markdown",
      "metadata": {
        "id": "Y3U2RUAU4JlS"
      },
      "source": [
        "## Q3. Multiples of Strip plots\n",
        "Come up with a question using this dataset and use a strip plot that contains multiples (splitting the plot into multiples by a category that has two or more unique values) by using the `row` or `col` argument. State your question in a markdown cell. Recall that a strip plot is a categorical plot where one axis is category and the other is a continuous variable. Set the appropriate arguments to make the plot more readable. Be sure to include a meaning title for the plot."
      ]
    },
    {
      "cell_type": "markdown",
      "metadata": {
        "id": "2IwP4YZ04JlT"
      },
      "source": [
        "## Q4. Swarm plot\n",
        "Come up with a question using this dataset and use a `swarm` plot to help answer the question. State your question in a markdown cell. Recall that a `swarm` plot is also a categorical plot where one axis is category and the other is a continuous variable. Set the appropriate arguments to make the plot more readable. Be sure to include a meaning title for the plot."
      ]
    },
    {
      "cell_type": "markdown",
      "metadata": {
        "id": "D_sm9jFm4JlT"
      },
      "source": [
        "## Q5. Box plots\n",
        "Box plot is one of the most commonly used plot for visualizing data distribution. We can convert the `swamp` plot into a `box` plot by simply changing the kind argument to `kind=\"box\"`. Convert the swarm plot that you created in Q4 with a boxplot here. Set the appropriate arguments to make the plot more readable. Be sure to include a meaning title for the plot."
      ]
    },
    {
      "cell_type": "markdown",
      "metadata": {
        "id": "Z6sDp14y4JlU"
      },
      "source": [
        "## Q6. Violin plots\n",
        "Come up with a question using this dataset and use a `violin` plot to help answer the question. State your question in a markdown cell. Recall that a `violin` plot is also a categorical plot where one axis is category and the other is a continuous variable. Set the appropriate arguments to make the plot more readable. You might want to set setting `cut` to zero if the distribution spreads beyond the values of the data in the dataset. Be sure to include a meaning title for the plot."
      ]
    },
    {
      "cell_type": "markdown",
      "metadata": {
        "id": "BsQK1sQ44JlU"
      },
      "source": [
        "## Bonus:\n",
        "Because violin plots are symetrical, when we have only two categories we can put one on each side with `split = True`. Try to create a violin plot using the `split` parameter. You will need to come up with a dataframe using this dataset with data that has two categories."
      ]
    }
  ],
  "metadata": {
    "kernelspec": {
      "display_name": "Python 3",
      "language": "python",
      "name": "python3"
    },
    "language_info": {
      "codemirror_mode": {
        "name": "ipython",
        "version": 3
      },
      "file_extension": ".py",
      "mimetype": "text/x-python",
      "name": "python",
      "nbconvert_exporter": "python",
      "pygments_lexer": "ipython3",
      "version": "3.7.6"
    },
    "colab": {
      "provenance": []
    }
  },
  "nbformat": 4,
  "nbformat_minor": 0
}