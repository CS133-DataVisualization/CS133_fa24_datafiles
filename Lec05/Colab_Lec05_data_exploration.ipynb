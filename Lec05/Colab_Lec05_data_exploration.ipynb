{
  "cells": [
    {
      "cell_type": "markdown",
      "metadata": {
        "id": "kNhwcVlNkaW5"
      },
      "source": [
        "# Data exploration with Pandas\n",
        "\n",
        "###  Tree of Life\n",
        "<table><tr><td><img src=\"http://t3.gstatic.com/licensed-image?q=tbn:ANd9GcSq4PRaxgfpjNOSe81JgN8l71DWtDHpkSfH3xo8EOk7khAlqQozXnJm8ubupyHj\" width=300></td><td>\n",
        "<img src=\"https://i.guim.co.uk/img/static/sys-images/Guardian/Pix/pictures/2008/04/17/DarwinSketch.article.jpg?width=445&quality=85&auto=format&fit=max&s=c7f89552d12b8495b2b4eb4d7a5bc391\" width=300></td><td><img src=\"https://i.pinimg.com/originals/78/3f/98/783f983d622b06b9a990ad67efabbbe8.png\" width=300></td></tr></table>\n",
        "\n",
        "### Objective of this notebook\n",
        "We will continue our data exploration with the dataset we used in Colab_Lec04. In this notebook, we will tackle real world questions with pandas. We will explore an kindom of life data file. Each row in this data set represents a particular organism. An organism is classified in a particular Kingdom and Class.\n",
        "\n",
        "Notebook adapted from Wendy Lee"
      ]
    },
    {
      "cell_type": "code",
      "execution_count": 2,
      "metadata": {
        "id": "Uq2yPFhxkaW-"
      },
      "outputs": [],
      "source": [
        "# Import libraries\n",
        "import pandas as pd"
      ]
    },
    {
      "cell_type": "code",
      "source": [
        "euk_filepath = \"https://raw.githubusercontent.com/csbfx/advpy122-data/master/euk.tsv\"\n",
        "euk_df = pd.read_csv(euk_filepath, sep='\\t')\n",
        "euk_df.head()"
      ],
      "metadata": {
        "id": "my910Rd0bUNB",
        "colab": {
          "base_uri": "https://localhost:8080/",
          "height": 206
        },
        "outputId": "78a37603-0db5-44c4-b627-3b7e6e6b7204"
      },
      "execution_count": 4,
      "outputs": [
        {
          "output_type": "execute_result",
          "data": {
            "text/plain": [
              "                      Species   Kingdom           Class  Size (Mb)      GC%  \\\n",
              "0  Emiliania huxleyi CCMP1516  Protists  Other Protists    167.676     64.5   \n",
              "1        Arabidopsis thaliana    Plants     Land Plants    119.669  36.0529   \n",
              "2                 Glycine max    Plants     Land Plants    979.046  35.1153   \n",
              "3         Medicago truncatula    Plants     Land Plants    412.924   34.047   \n",
              "4        Solanum lycopersicum    Plants     Land Plants    828.349  35.6991   \n",
              "\n",
              "  Number of genes Number of proteins  Publication year Assembly status  \n",
              "0           38549              38554              2013        Scaffold  \n",
              "1           38311              48265              2001      Chromosome  \n",
              "2           59847              71219              2010      Chromosome  \n",
              "3           37603              41939              2011      Chromosome  \n",
              "4           31200              37660              2010      Chromosome  "
            ],
            "text/html": [
              "\n",
              "  <div id=\"df-eb262fb9-4be0-4dc8-9dfd-aacc2ec0cd56\" class=\"colab-df-container\">\n",
              "    <div>\n",
              "<style scoped>\n",
              "    .dataframe tbody tr th:only-of-type {\n",
              "        vertical-align: middle;\n",
              "    }\n",
              "\n",
              "    .dataframe tbody tr th {\n",
              "        vertical-align: top;\n",
              "    }\n",
              "\n",
              "    .dataframe thead th {\n",
              "        text-align: right;\n",
              "    }\n",
              "</style>\n",
              "<table border=\"1\" class=\"dataframe\">\n",
              "  <thead>\n",
              "    <tr style=\"text-align: right;\">\n",
              "      <th></th>\n",
              "      <th>Species</th>\n",
              "      <th>Kingdom</th>\n",
              "      <th>Class</th>\n",
              "      <th>Size (Mb)</th>\n",
              "      <th>GC%</th>\n",
              "      <th>Number of genes</th>\n",
              "      <th>Number of proteins</th>\n",
              "      <th>Publication year</th>\n",
              "      <th>Assembly status</th>\n",
              "    </tr>\n",
              "  </thead>\n",
              "  <tbody>\n",
              "    <tr>\n",
              "      <th>0</th>\n",
              "      <td>Emiliania huxleyi CCMP1516</td>\n",
              "      <td>Protists</td>\n",
              "      <td>Other Protists</td>\n",
              "      <td>167.676</td>\n",
              "      <td>64.5</td>\n",
              "      <td>38549</td>\n",
              "      <td>38554</td>\n",
              "      <td>2013</td>\n",
              "      <td>Scaffold</td>\n",
              "    </tr>\n",
              "    <tr>\n",
              "      <th>1</th>\n",
              "      <td>Arabidopsis thaliana</td>\n",
              "      <td>Plants</td>\n",
              "      <td>Land Plants</td>\n",
              "      <td>119.669</td>\n",
              "      <td>36.0529</td>\n",
              "      <td>38311</td>\n",
              "      <td>48265</td>\n",
              "      <td>2001</td>\n",
              "      <td>Chromosome</td>\n",
              "    </tr>\n",
              "    <tr>\n",
              "      <th>2</th>\n",
              "      <td>Glycine max</td>\n",
              "      <td>Plants</td>\n",
              "      <td>Land Plants</td>\n",
              "      <td>979.046</td>\n",
              "      <td>35.1153</td>\n",
              "      <td>59847</td>\n",
              "      <td>71219</td>\n",
              "      <td>2010</td>\n",
              "      <td>Chromosome</td>\n",
              "    </tr>\n",
              "    <tr>\n",
              "      <th>3</th>\n",
              "      <td>Medicago truncatula</td>\n",
              "      <td>Plants</td>\n",
              "      <td>Land Plants</td>\n",
              "      <td>412.924</td>\n",
              "      <td>34.047</td>\n",
              "      <td>37603</td>\n",
              "      <td>41939</td>\n",
              "      <td>2011</td>\n",
              "      <td>Chromosome</td>\n",
              "    </tr>\n",
              "    <tr>\n",
              "      <th>4</th>\n",
              "      <td>Solanum lycopersicum</td>\n",
              "      <td>Plants</td>\n",
              "      <td>Land Plants</td>\n",
              "      <td>828.349</td>\n",
              "      <td>35.6991</td>\n",
              "      <td>31200</td>\n",
              "      <td>37660</td>\n",
              "      <td>2010</td>\n",
              "      <td>Chromosome</td>\n",
              "    </tr>\n",
              "  </tbody>\n",
              "</table>\n",
              "</div>\n",
              "    <div class=\"colab-df-buttons\">\n",
              "\n",
              "  <div class=\"colab-df-container\">\n",
              "    <button class=\"colab-df-convert\" onclick=\"convertToInteractive('df-eb262fb9-4be0-4dc8-9dfd-aacc2ec0cd56')\"\n",
              "            title=\"Convert this dataframe to an interactive table.\"\n",
              "            style=\"display:none;\">\n",
              "\n",
              "  <svg xmlns=\"http://www.w3.org/2000/svg\" height=\"24px\" viewBox=\"0 -960 960 960\">\n",
              "    <path d=\"M120-120v-720h720v720H120Zm60-500h600v-160H180v160Zm220 220h160v-160H400v160Zm0 220h160v-160H400v160ZM180-400h160v-160H180v160Zm440 0h160v-160H620v160ZM180-180h160v-160H180v160Zm440 0h160v-160H620v160Z\"/>\n",
              "  </svg>\n",
              "    </button>\n",
              "\n",
              "  <style>\n",
              "    .colab-df-container {\n",
              "      display:flex;\n",
              "      gap: 12px;\n",
              "    }\n",
              "\n",
              "    .colab-df-convert {\n",
              "      background-color: #E8F0FE;\n",
              "      border: none;\n",
              "      border-radius: 50%;\n",
              "      cursor: pointer;\n",
              "      display: none;\n",
              "      fill: #1967D2;\n",
              "      height: 32px;\n",
              "      padding: 0 0 0 0;\n",
              "      width: 32px;\n",
              "    }\n",
              "\n",
              "    .colab-df-convert:hover {\n",
              "      background-color: #E2EBFA;\n",
              "      box-shadow: 0px 1px 2px rgba(60, 64, 67, 0.3), 0px 1px 3px 1px rgba(60, 64, 67, 0.15);\n",
              "      fill: #174EA6;\n",
              "    }\n",
              "\n",
              "    .colab-df-buttons div {\n",
              "      margin-bottom: 4px;\n",
              "    }\n",
              "\n",
              "    [theme=dark] .colab-df-convert {\n",
              "      background-color: #3B4455;\n",
              "      fill: #D2E3FC;\n",
              "    }\n",
              "\n",
              "    [theme=dark] .colab-df-convert:hover {\n",
              "      background-color: #434B5C;\n",
              "      box-shadow: 0px 1px 3px 1px rgba(0, 0, 0, 0.15);\n",
              "      filter: drop-shadow(0px 1px 2px rgba(0, 0, 0, 0.3));\n",
              "      fill: #FFFFFF;\n",
              "    }\n",
              "  </style>\n",
              "\n",
              "    <script>\n",
              "      const buttonEl =\n",
              "        document.querySelector('#df-eb262fb9-4be0-4dc8-9dfd-aacc2ec0cd56 button.colab-df-convert');\n",
              "      buttonEl.style.display =\n",
              "        google.colab.kernel.accessAllowed ? 'block' : 'none';\n",
              "\n",
              "      async function convertToInteractive(key) {\n",
              "        const element = document.querySelector('#df-eb262fb9-4be0-4dc8-9dfd-aacc2ec0cd56');\n",
              "        const dataTable =\n",
              "          await google.colab.kernel.invokeFunction('convertToInteractive',\n",
              "                                                    [key], {});\n",
              "        if (!dataTable) return;\n",
              "\n",
              "        const docLinkHtml = 'Like what you see? Visit the ' +\n",
              "          '<a target=\"_blank\" href=https://colab.research.google.com/notebooks/data_table.ipynb>data table notebook</a>'\n",
              "          + ' to learn more about interactive tables.';\n",
              "        element.innerHTML = '';\n",
              "        dataTable['output_type'] = 'display_data';\n",
              "        await google.colab.output.renderOutput(dataTable, element);\n",
              "        const docLink = document.createElement('div');\n",
              "        docLink.innerHTML = docLinkHtml;\n",
              "        element.appendChild(docLink);\n",
              "      }\n",
              "    </script>\n",
              "  </div>\n",
              "\n",
              "\n",
              "<div id=\"df-ae228ee0-a30a-4f17-bf0b-45854f14c0e7\">\n",
              "  <button class=\"colab-df-quickchart\" onclick=\"quickchart('df-ae228ee0-a30a-4f17-bf0b-45854f14c0e7')\"\n",
              "            title=\"Suggest charts\"\n",
              "            style=\"display:none;\">\n",
              "\n",
              "<svg xmlns=\"http://www.w3.org/2000/svg\" height=\"24px\"viewBox=\"0 0 24 24\"\n",
              "     width=\"24px\">\n",
              "    <g>\n",
              "        <path d=\"M19 3H5c-1.1 0-2 .9-2 2v14c0 1.1.9 2 2 2h14c1.1 0 2-.9 2-2V5c0-1.1-.9-2-2-2zM9 17H7v-7h2v7zm4 0h-2V7h2v10zm4 0h-2v-4h2v4z\"/>\n",
              "    </g>\n",
              "</svg>\n",
              "  </button>\n",
              "\n",
              "<style>\n",
              "  .colab-df-quickchart {\n",
              "      --bg-color: #E8F0FE;\n",
              "      --fill-color: #1967D2;\n",
              "      --hover-bg-color: #E2EBFA;\n",
              "      --hover-fill-color: #174EA6;\n",
              "      --disabled-fill-color: #AAA;\n",
              "      --disabled-bg-color: #DDD;\n",
              "  }\n",
              "\n",
              "  [theme=dark] .colab-df-quickchart {\n",
              "      --bg-color: #3B4455;\n",
              "      --fill-color: #D2E3FC;\n",
              "      --hover-bg-color: #434B5C;\n",
              "      --hover-fill-color: #FFFFFF;\n",
              "      --disabled-bg-color: #3B4455;\n",
              "      --disabled-fill-color: #666;\n",
              "  }\n",
              "\n",
              "  .colab-df-quickchart {\n",
              "    background-color: var(--bg-color);\n",
              "    border: none;\n",
              "    border-radius: 50%;\n",
              "    cursor: pointer;\n",
              "    display: none;\n",
              "    fill: var(--fill-color);\n",
              "    height: 32px;\n",
              "    padding: 0;\n",
              "    width: 32px;\n",
              "  }\n",
              "\n",
              "  .colab-df-quickchart:hover {\n",
              "    background-color: var(--hover-bg-color);\n",
              "    box-shadow: 0 1px 2px rgba(60, 64, 67, 0.3), 0 1px 3px 1px rgba(60, 64, 67, 0.15);\n",
              "    fill: var(--button-hover-fill-color);\n",
              "  }\n",
              "\n",
              "  .colab-df-quickchart-complete:disabled,\n",
              "  .colab-df-quickchart-complete:disabled:hover {\n",
              "    background-color: var(--disabled-bg-color);\n",
              "    fill: var(--disabled-fill-color);\n",
              "    box-shadow: none;\n",
              "  }\n",
              "\n",
              "  .colab-df-spinner {\n",
              "    border: 2px solid var(--fill-color);\n",
              "    border-color: transparent;\n",
              "    border-bottom-color: var(--fill-color);\n",
              "    animation:\n",
              "      spin 1s steps(1) infinite;\n",
              "  }\n",
              "\n",
              "  @keyframes spin {\n",
              "    0% {\n",
              "      border-color: transparent;\n",
              "      border-bottom-color: var(--fill-color);\n",
              "      border-left-color: var(--fill-color);\n",
              "    }\n",
              "    20% {\n",
              "      border-color: transparent;\n",
              "      border-left-color: var(--fill-color);\n",
              "      border-top-color: var(--fill-color);\n",
              "    }\n",
              "    30% {\n",
              "      border-color: transparent;\n",
              "      border-left-color: var(--fill-color);\n",
              "      border-top-color: var(--fill-color);\n",
              "      border-right-color: var(--fill-color);\n",
              "    }\n",
              "    40% {\n",
              "      border-color: transparent;\n",
              "      border-right-color: var(--fill-color);\n",
              "      border-top-color: var(--fill-color);\n",
              "    }\n",
              "    60% {\n",
              "      border-color: transparent;\n",
              "      border-right-color: var(--fill-color);\n",
              "    }\n",
              "    80% {\n",
              "      border-color: transparent;\n",
              "      border-right-color: var(--fill-color);\n",
              "      border-bottom-color: var(--fill-color);\n",
              "    }\n",
              "    90% {\n",
              "      border-color: transparent;\n",
              "      border-bottom-color: var(--fill-color);\n",
              "    }\n",
              "  }\n",
              "</style>\n",
              "\n",
              "  <script>\n",
              "    async function quickchart(key) {\n",
              "      const quickchartButtonEl =\n",
              "        document.querySelector('#' + key + ' button');\n",
              "      quickchartButtonEl.disabled = true;  // To prevent multiple clicks.\n",
              "      quickchartButtonEl.classList.add('colab-df-spinner');\n",
              "      try {\n",
              "        const charts = await google.colab.kernel.invokeFunction(\n",
              "            'suggestCharts', [key], {});\n",
              "      } catch (error) {\n",
              "        console.error('Error during call to suggestCharts:', error);\n",
              "      }\n",
              "      quickchartButtonEl.classList.remove('colab-df-spinner');\n",
              "      quickchartButtonEl.classList.add('colab-df-quickchart-complete');\n",
              "    }\n",
              "    (() => {\n",
              "      let quickchartButtonEl =\n",
              "        document.querySelector('#df-ae228ee0-a30a-4f17-bf0b-45854f14c0e7 button');\n",
              "      quickchartButtonEl.style.display =\n",
              "        google.colab.kernel.accessAllowed ? 'block' : 'none';\n",
              "    })();\n",
              "  </script>\n",
              "</div>\n",
              "\n",
              "    </div>\n",
              "  </div>\n"
            ],
            "application/vnd.google.colaboratory.intrinsic+json": {
              "type": "dataframe",
              "variable_name": "euk_df",
              "summary": "{\n  \"name\": \"euk_df\",\n  \"rows\": 8302,\n  \"fields\": [\n    {\n      \"column\": \"Species\",\n      \"properties\": {\n        \"dtype\": \"string\",\n        \"num_unique_values\": 4936,\n        \"samples\": [\n          \"Mrakia blollopis\",\n          \"Toxoplasma gondii TgCATBr5\",\n          \"Drosophila grimshawi\"\n        ],\n        \"semantic_type\": \"\",\n        \"description\": \"\"\n      }\n    },\n    {\n      \"column\": \"Kingdom\",\n      \"properties\": {\n        \"dtype\": \"category\",\n        \"num_unique_values\": 5,\n        \"samples\": [\n          \"Plants\",\n          \"Other\",\n          \"Fungi\"\n        ],\n        \"semantic_type\": \"\",\n        \"description\": \"\"\n      }\n    },\n    {\n      \"column\": \"Class\",\n      \"properties\": {\n        \"dtype\": \"category\",\n        \"num_unique_values\": 19,\n        \"samples\": [\n          \"Other Protists\",\n          \"Apicomplexans\",\n          \"Mammals\"\n        ],\n        \"semantic_type\": \"\",\n        \"description\": \"\"\n      }\n    },\n    {\n      \"column\": \"Size (Mb)\",\n      \"properties\": {\n        \"dtype\": \"number\",\n        \"std\": 1111.5382890873323,\n        \"min\": 0.011236,\n        \"max\": 32396.4,\n        \"num_unique_values\": 8203,\n        \"samples\": [\n          42.713,\n          4.9454,\n          43.5021\n        ],\n        \"semantic_type\": \"\",\n        \"description\": \"\"\n      }\n    },\n    {\n      \"column\": \"GC%\",\n      \"properties\": {\n        \"dtype\": \"category\",\n        \"num_unique_values\": 1857,\n        \"samples\": [\n          \"27.9\",\n          \"36.7747\",\n          \"40.1912\"\n        ],\n        \"semantic_type\": \"\",\n        \"description\": \"\"\n      }\n    },\n    {\n      \"column\": \"Number of genes\",\n      \"properties\": {\n        \"dtype\": \"category\",\n        \"num_unique_values\": 2239,\n        \"samples\": [\n          \"17642\",\n          \"40259\",\n          \"8569\"\n        ],\n        \"semantic_type\": \"\",\n        \"description\": \"\"\n      }\n    },\n    {\n      \"column\": \"Number of proteins\",\n      \"properties\": {\n        \"dtype\": \"category\",\n        \"num_unique_values\": 2214,\n        \"samples\": [\n          \"19503\",\n          \"11966\",\n          \"11491\"\n        ],\n        \"semantic_type\": \"\",\n        \"description\": \"\"\n      }\n    },\n    {\n      \"column\": \"Publication year\",\n      \"properties\": {\n        \"dtype\": \"number\",\n        \"std\": 2,\n        \"min\": 1992,\n        \"max\": 2019,\n        \"num_unique_values\": 23,\n        \"samples\": [\n          2008,\n          2003,\n          2013\n        ],\n        \"semantic_type\": \"\",\n        \"description\": \"\"\n      }\n    },\n    {\n      \"column\": \"Assembly status\",\n      \"properties\": {\n        \"dtype\": \"category\",\n        \"num_unique_values\": 4,\n        \"samples\": [\n          \"Chromosome\",\n          \"Contig\",\n          \"Scaffold\"\n        ],\n        \"semantic_type\": \"\",\n        \"description\": \"\"\n      }\n    }\n  ]\n}"
            }
          },
          "metadata": {},
          "execution_count": 4
        }
      ]
    },
    {
      "cell_type": "code",
      "source": [
        "# ## You can sort by one or more columns\n",
        "# euk_df.sort_values(['Species', 'Publication year'], ascending=[True, False])"
      ],
      "metadata": {
        "id": "fbLpjtr_V6qT"
      },
      "execution_count": 60,
      "outputs": []
    },
    {
      "cell_type": "markdown",
      "source": [
        "*italicized text*### Q1. How many fungal species have genomes size bigger than 100Mb? What are their names?\n",
        "\n",
        "**We need to filter a few things to address this question.**\n",
        "1. Select all the Fungi under the \"Kingdom\" column.\n",
        "2. Select all the Fungi with genome size greater than 100.\n",
        "3. Select Species from the filtered data from step 2 above.\n",
        "\n",
        "**Let's do it step by step. And then we will combine all of them in one line of code.**"
      ],
      "metadata": {
        "id": "1xdVocix27cz"
      }
    },
    {
      "cell_type": "code",
      "source": [
        "# ## Narrow down to only Fungi\n",
        "# euk_df[euk_df.Kingdom == 'Fungi']"
      ],
      "metadata": {
        "id": "UHf0L66r27JF"
      },
      "execution_count": 61,
      "outputs": []
    },
    {
      "cell_type": "markdown",
      "source": [
        "To **combine two conditional statements** in the filtering, we need to surround each conditional statements with its own pair of **parentheses**."
      ],
      "metadata": {
        "id": "aWRbFF7f3d8w"
      }
    },
    {
      "cell_type": "code",
      "source": [
        "# ## Narrow down to Fungi that has genome size > 100\n",
        "# euk_df[(euk_df.Kingdom == 'Fungi') &\n",
        "#     (euk_df['Size (Mb)'] > 100)\n",
        "#     ]"
      ],
      "metadata": {
        "id": "vdqzZXDU3WrV"
      },
      "execution_count": 62,
      "outputs": []
    },
    {
      "cell_type": "code",
      "source": [
        "# ## Species that are Fungi with genome size > 100 Mb\n",
        "# euk_df[(euk_df.Kingdom == 'Fungi') & (euk_df['Size (Mb)'] > 100)].Species"
      ],
      "metadata": {
        "id": "RlpZ0_zH63j7"
      },
      "execution_count": 63,
      "outputs": []
    },
    {
      "cell_type": "markdown",
      "source": [
        "#### Convert the Series in \\#3 above to a python list using `to_list` method ####"
      ],
      "metadata": {
        "id": "8Q16gA4PBzIZ"
      }
    },
    {
      "cell_type": "code",
      "source": [
        "# speciesList = euk_df[ (euk_df.Kingdom == 'Fungi') &\n",
        "#                   (euk_df['Size (Mb)'] > 100)\n",
        "#                  ][\"Species\"].to_list()\n",
        "\n",
        "# ## Slice for the top 10 on the list\n",
        "# speciesList[0:10]"
      ],
      "metadata": {
        "id": "YteZHi3yBu-F"
      },
      "execution_count": 64,
      "outputs": []
    },
    {
      "cell_type": "markdown",
      "source": [
        "### Q2. How many organisms are there for each Kingdom (plants, animals, fungi, protists, and other), and how many unique species names?\n",
        "\n",
        "**HINT**: Any time we see a question involving the words ”how many\n",
        "... for each ...” **\"how many ... for each ...\"** the answer is **`value_counts`**."
      ],
      "metadata": {
        "id": "6KJCmTYvFeEu"
      }
    },
    {
      "cell_type": "code",
      "source": [
        "# euk_df.Kingdom.value_counts()"
      ],
      "metadata": {
        "id": "pWEUCno9GElm"
      },
      "execution_count": 65,
      "outputs": []
    },
    {
      "cell_type": "markdown",
      "source": [
        "To address \"how many unique species names?\", count the unique species names for plants by filtering the dataframe. **[`nunique()`]**(https://pandas.pydata.org/pandas-docs/stable/reference/api/pandas.DataFrame.nunique.html) returns the number of distinct obeservations."
      ],
      "metadata": {
        "id": "JWn2afFhGe3V"
      }
    },
    {
      "cell_type": "code",
      "source": [
        "# euk_df[(euk_df[\"Kingdom\"] == \"Plants\")].Species.nunique()"
      ],
      "metadata": {
        "id": "qD9j6E9EHCx6"
      },
      "execution_count": 66,
      "outputs": []
    },
    {
      "cell_type": "code",
      "source": [
        "# ## To expand this to the other kingdoms\n",
        "\n",
        "# for k in [\"Protists\", \"Plants\", \"Fungi\", \"Animals\", \"Other\"]:\n",
        "#     print(k, euk_df[euk_df.Kingdom == k].Species.nunique())"
      ],
      "metadata": {
        "id": "D-s9_kqBHLPo"
      },
      "execution_count": 67,
      "outputs": []
    },
    {
      "cell_type": "markdown",
      "source": [
        "#### To make the above more scalable\n",
        "Hardcoding the values in kingdom is not scalable, we can implement a more elegant way to get a list of unique kingdom names directly from the dataframe **[`unique()`]**(https://pandas.pydata.org/pandas-docs/stable/reference/api/pandas.unique.html) returns unique values in the order of apperance. It does NOT sort."
      ],
      "metadata": {
        "id": "ZybvLQcKHs8U"
      }
    },
    {
      "cell_type": "code",
      "source": [
        "# ## Return an array of unique values in Kingdom\n",
        "# euk_df.Kingdom.unique()\n",
        "\n",
        "# ## Use an array to make it more scalable\n",
        "# for kingdom in euk_df.Kingdom.unique():\n",
        "#     print(kingdom, euk_df[euk_df.Kingdom == kingdom].Species.nunique())"
      ],
      "metadata": {
        "id": "Bu55jpHzHsUx"
      },
      "execution_count": 68,
      "outputs": []
    },
    {
      "cell_type": "markdown",
      "source": [
        "### Q3. Make a new dataframe containing just the rows for the *Aquila* genus.\n",
        "\n",
        "**Let go over some biology terminologies**\n",
        "- The names under the **Species** column are scientific names that made up of a *genus* name and a *species* name separated by a space. Example: *Homo sapiens*. Note: there are some species that don't follow that format and we will ignore them for now.\n",
        "\n",
        "To solve this problem, we will need to **separate the genus and species names** for each value in the **Species** column."
      ],
      "metadata": {
        "id": "S2FJ3nevIn-5"
      }
    },
    {
      "cell_type": "code",
      "source": [
        "# ## Review how to split a string\n",
        "# a = \"abc def\"\n",
        "# a_split = a.split()\n",
        "# print(a_split)\n",
        "# print(a_split[0])\n",
        "\n",
        "\n",
        "# # Split the strings stored in the column Species\n",
        "# euk_df.Species.str.split()"
      ],
      "metadata": {
        "id": "YFS6hxBVI5CM"
      },
      "execution_count": 69,
      "outputs": []
    },
    {
      "cell_type": "code",
      "source": [
        "# ## Take the first element of each of the resulting lists (again remembering to refer to the str attribute):\n",
        "# ## This gives us our series of genus names.\n",
        "# euk_df.Species.str.split().str[0]"
      ],
      "metadata": {
        "id": "erRrAWlkKT-d"
      },
      "execution_count": 70,
      "outputs": []
    },
    {
      "cell_type": "code",
      "source": [
        "# ## Add the condition to get a series of boolean values:\n",
        "# euk_df.Species.str.split(' ').str[0] == \"Aquila\""
      ],
      "metadata": {
        "id": "fg9bVmPvKlvd"
      },
      "execution_count": 71,
      "outputs": []
    },
    {
      "cell_type": "code",
      "source": [
        "# ## Plug the above into the original dataframe to select the rows that are True\n",
        "\n",
        "# aquila_data = euk_df[ (euk_df.Species.str.split(' ').str[0] == \"Aquila\") ]\n",
        "# aquila_data"
      ],
      "metadata": {
        "id": "X21OJ18QKuFz"
      },
      "execution_count": 72,
      "outputs": []
    },
    {
      "cell_type": "code",
      "source": [
        "# ## Extract the genus name and combine it with other columns in the dataframe to create a new dataframe\n",
        "# euk_df['Genus']=euk_df.Species.str.split(\" \").str[0]\n",
        "\n",
        "# neweuk = euk_df[[\"Species\",\"Genus\",\"Class\",\"Kingdom\"]]\n",
        "# neweuk"
      ],
      "metadata": {
        "id": "3s47qvXiLCdv"
      },
      "execution_count": 73,
      "outputs": []
    },
    {
      "cell_type": "markdown",
      "source": [
        "### Q4. Which organism have at least 10% more proteins than genes?\n",
        "\n",
        "There are a few different ways to interpret ”10% more”, but for the purposes of this question we will say that we want to divide the number of proteins by the number of genes, and if the result is greater than or equal to 1.1 then we want to include the organism.\n",
        "\n",
        "If you look at the `euk` dataframe, you will see that the columns **Number of proteins** and **Number of genes** are mixed with numeric values and dashes. To ensure that all the values in these two columns are numeric, we will use pandas method [`to_numeric`](https://pandas.pydata.org/pandas-docs/version/0.19.2/generated/pandas.to_numeric.html) to covert the values to numeric. We will set the `errors` argument to `'coerce'` to convert any non-numeric value to NaN (not a number)."
      ],
      "metadata": {
        "id": "tAWaP2wGLdSO"
      }
    },
    {
      "cell_type": "code",
      "source": [
        "# euk_df[\"Number of genes\"] =  pd.to_numeric(euk_df[\"Number of genes\"],  errors='coerce')\n",
        "# euk_df[\"Number of proteins\"] =  pd.to_numeric(euk_df[\"Number of proteins\"],  errors='coerce')\n",
        "# euk_df[\"GC%\"] =  pd.to_numeric(euk_df[\"GC%\"],  errors='coerce')\n",
        "\n",
        "# # automatically applying the division for each row\n",
        "# euk_df[\"Proteins per gene\"] = euk_df[\"Number of proteins\"]/euk_df[\"Number of genes\"]"
      ],
      "metadata": {
        "id": "-29BMPkQLpiM"
      },
      "execution_count": 74,
      "outputs": []
    },
    {
      "cell_type": "code",
      "source": [
        "# # To filter the rows where the ratio of proteins and genes is\n",
        "# # greater than or equal to 1.1, we will get a series of boolean\n",
        "# # values by setting the condition.\n",
        "\n",
        "# euk_df[(euk_df[\"Proteins per gene\"] >= 1.1)]"
      ],
      "metadata": {
        "id": "eTj-z5HxL0sQ"
      },
      "execution_count": 75,
      "outputs": []
    },
    {
      "cell_type": "markdown",
      "source": [
        "### Indexing in pandas\n",
        "The indexing operator and attribute selection are nice because they work just like they do in the rest of the Python ecosystem. As a novice, this makes them easy to pick up and use. However, pandas has its own accessor operators, `iloc` and `loc`. For more advanced operations, these are the ones you're supposed to be using.\n",
        "\n",
        "#### Index-based selection\n",
        "Pandas indexing works in one of two paradigms. The first is index-based selection: selecting data based on its numerical position in the data.`iloc` follows this paradigm.\n",
        "\n",
        "To select the first row of data in a DataFrame, we may use the following:"
      ],
      "metadata": {
        "id": "wi9h5dSNWHP0"
      }
    },
    {
      "cell_type": "code",
      "source": [
        "# ## New df of fungi\n",
        "# fungi = euk_df[(euk_df.Kingdom == 'Fungi')]\n",
        "\n",
        "# ## Selecting first row\n",
        "# fungi.iloc[0]"
      ],
      "metadata": {
        "id": "1s21PTj5WYN_"
      },
      "execution_count": 76,
      "outputs": []
    },
    {
      "cell_type": "markdown",
      "source": [
        "## Extracting rows and columns\n",
        "\n",
        "-  Extract specific rows and all columns\n",
        "\n",
        "    ```df.iloc[rows]```\n",
        "\n",
        "-  Extract specific rows and columns\n",
        "\n",
        "    ```df.iloc[rows, columns]```\n",
        "\n",
        "-  Extract specific rows and columns with specific indices\n",
        "\n",
        "    ```df.iloc[start:stop:skip, start:stop:skip]```\n",
        "\n",
        "#### Note that stop is exclusive\n",
        "\n",
        " ```[1:3]``` will extract the second and third rows for all columns.\n",
        "\n",
        "```[1::2, :]```  will extract from the 2nd row all the way to the end every other row, and all the columns\n",
        "\n",
        "```[:, :3]```  all rows, from the beginning to the 3rd column (indices 0, 1, 2)\n"
      ],
      "metadata": {
        "id": "m8aVkN9uWu3e"
      }
    },
    {
      "cell_type": "code",
      "source": [
        "# ## Getting the second and third rows for all columns\n",
        "# fungi.iloc[1:3]"
      ],
      "metadata": {
        "id": "PItaz0mbWzhb"
      },
      "execution_count": 77,
      "outputs": []
    },
    {
      "cell_type": "code",
      "source": [
        "# # Getting every other rows from the first row to the 10th row, and extracting 4th and 5th columns\n",
        "# fungi.iloc[0:10:2, 3:5]"
      ],
      "metadata": {
        "id": "r3W3frSTW5Es"
      },
      "execution_count": 78,
      "outputs": []
    },
    {
      "cell_type": "markdown",
      "source": [
        "Both loc and iloc are row-first, column-second. This is the opposite of what we do in native Python, which is column-first, row-second.\n",
        "\n",
        "This means that it's marginally easier to retrieve rows, and marginally harder to get retrieve columns. To get a column with iloc, we can do the following:"
      ],
      "metadata": {
        "id": "tKGVWz4bXDDe"
      }
    },
    {
      "cell_type": "code",
      "source": [
        "# ## Select all rows, first column\n",
        "# fungi.iloc[:, 0]"
      ],
      "metadata": {
        "id": "aAxrVhLtXHZN"
      },
      "execution_count": 79,
      "outputs": []
    },
    {
      "cell_type": "markdown",
      "source": [
        "On its own, the `:` operator, which also comes from native Python, means \"everything\". When combined with other selectors, however, it can be used to indicate a range of values. For example, to omit the first 3 columns and extract just the first three rows, we would do:"
      ],
      "metadata": {
        "id": "il7qFF7kXOnK"
      }
    },
    {
      "cell_type": "code",
      "source": [
        "# fungi.iloc[:3, 3:]"
      ],
      "metadata": {
        "id": "m1i2TX6gXQqJ"
      },
      "execution_count": 80,
      "outputs": []
    },
    {
      "cell_type": "markdown",
      "source": [
        "#### Label-based selection\n",
        "The second paradigm for attribute selection is the one followed by the loc operator: label-based selection. In this paradigm, it's the data index value, not its position, which matters."
      ],
      "metadata": {
        "id": "Oxds6VdJX6yp"
      }
    },
    {
      "cell_type": "code",
      "source": [
        "# ## Getting all rows, and specific columns based on their headers\n",
        "# fungi.loc[:, ['Species', 'Number of genes', 'Number of proteins']]"
      ],
      "metadata": {
        "id": "AgR2YF4oXTls"
      },
      "execution_count": 81,
      "outputs": []
    },
    {
      "cell_type": "markdown",
      "source": [
        "### Set row index using a specific column"
      ],
      "metadata": {
        "id": "BniqnTcxXc8m"
      }
    },
    {
      "cell_type": "code",
      "source": [
        "# fungi.set_index('Species', inplace=True)\n",
        "# fungi.head()"
      ],
      "metadata": {
        "id": "AFib4kpMXSvj"
      },
      "execution_count": 82,
      "outputs": []
    },
    {
      "cell_type": "markdown",
      "source": [
        "### Reset dataframe's index"
      ],
      "metadata": {
        "id": "gL7aVycAYbZB"
      }
    },
    {
      "cell_type": "code",
      "source": [
        "# # Getting specific rows based on the row index and all columns\n",
        "# fungi.loc[['Saccharomyces cerevisiae'], :]"
      ],
      "metadata": {
        "id": "DODJnBS6YI5_"
      },
      "execution_count": 83,
      "outputs": []
    },
    {
      "cell_type": "code",
      "source": [
        "# fungi.reset_index(inplace=True)\n",
        "# fungi.head()"
      ],
      "metadata": {
        "id": "e9pC8TMjYPih"
      },
      "execution_count": 84,
      "outputs": []
    }
  ],
  "metadata": {
    "kernelspec": {
      "display_name": "Python 3",
      "language": "python",
      "name": "python3"
    },
    "language_info": {
      "codemirror_mode": {
        "name": "ipython",
        "version": 3
      },
      "file_extension": ".py",
      "mimetype": "text/x-python",
      "name": "python",
      "nbconvert_exporter": "python",
      "pygments_lexer": "ipython3",
      "version": "3.7.6"
    },
    "colab": {
      "provenance": []
    }
  },
  "nbformat": 4,
  "nbformat_minor": 0
}