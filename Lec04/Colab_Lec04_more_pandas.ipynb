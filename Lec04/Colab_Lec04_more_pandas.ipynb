{
  "cells": [
    {
      "cell_type": "markdown",
      "metadata": {
        "id": "kNhwcVlNkaW5"
      },
      "source": [
        "# More practice with pandas\n",
        "\n",
        "\n",
        "### Objective of this notebook\n",
        "Using the same dataset that we used in Colab_Lec03, let's practice more data exploration."
      ]
    },
    {
      "cell_type": "code",
      "execution_count": 1,
      "metadata": {
        "id": "Uq2yPFhxkaW-"
      },
      "outputs": [],
      "source": [
        "# Import libraries\n",
        "import pandas as pd"
      ]
    },
    {
      "cell_type": "code",
      "execution_count": 2,
      "metadata": {
        "id": "j0NKk1UMkaXK"
      },
      "outputs": [],
      "source": [
        "# Read in the movie data set\n",
        "movie_filepath = 'https://raw.githubusercontent.com/csbfx/advpy122-data/master/top_movies_2020.csv'\n",
        "movies_df = pd.read_csv(movie_filepath)"
      ]
    },
    {
      "cell_type": "markdown",
      "metadata": {
        "id": "ynPM1GQtkaXL"
      },
      "source": [
        "Recall, how do you find out information and details of your dataset?"
      ]
    },
    {
      "cell_type": "code",
      "execution_count": 3,
      "metadata": {
        "id": "pGm6I_PqkaXM"
      },
      "outputs": [],
      "source": [
        "## What is the size of the table?\n",
        "\n",
        "## What are the data type of each of the columns in the table?\n",
        "\n",
        "## How many missing values are in each column?\n"
      ]
    },
    {
      "cell_type": "markdown",
      "metadata": {
        "id": "GezY-98WkaXP"
      },
      "source": [
        "## Questions to find the next blockbuster\n",
        "Let's get some information about trends in movie's gross to decide which movie were popular and high grossing so we can make a pitch for the next blockbuster. Use either tables or plots to answer the following questions."
      ]
    },
    {
      "cell_type": "code",
      "source": [
        "## Q1: What was the max Gross and Gross adj from any movie?\n",
        "## df.column.max() will return for you max value in the column you specify\n",
        "\n",
        "## Q2: Are they the same movie?\n",
        "\n",
        "## You can look at the index that has your row of interest by setting == to the max value\n"
      ],
      "metadata": {
        "id": "yTr96e8EY_yA"
      },
      "execution_count": 4,
      "outputs": []
    },
    {
      "cell_type": "code",
      "source": [
        "## Q2: What was the top performing movie for each decade?\n",
        "## Using groupby allows us to group together rows within a column\n"
      ],
      "metadata": {
        "id": "YLPMLRM0ZQkE"
      },
      "execution_count": 5,
      "outputs": []
    },
    {
      "cell_type": "code",
      "source": [
        "## Q3: To ask if people watch movies more now then in the pass, we are going to ask over the years, is there a difference in the Gross adj over time?\n",
        "\n",
        "## Q4: In addition, are there more top titles being release now compared to the past years?"
      ],
      "metadata": {
        "id": "Y4DJGty9ZWZF"
      },
      "execution_count": 6,
      "outputs": []
    },
    {
      "cell_type": "markdown",
      "source": [
        "What other information do you wish this table included that would have helped us find that next new movie?"
      ],
      "metadata": {
        "id": "niHMDzroakgQ"
      }
    },
    {
      "cell_type": "markdown",
      "source": [
        "# Working with tsv\n",
        "Pandas is able to work with tab-delimited files as well as comma-delimited files. In the case of tab-delimited, we need to specify the delimiter by using the 'sep' keyword argument."
      ],
      "metadata": {
        "id": "sH7qGpL8a32E"
      }
    },
    {
      "cell_type": "code",
      "source": [
        "euk_filepath = \"https://raw.githubusercontent.com/csbfx/advpy122-data/master/euk.tsv\"\n",
        "euk_df = pd.read_csv(euk_filepath, sep='\\t')"
      ],
      "metadata": {
        "id": "my910Rd0bUNB"
      },
      "execution_count": 8,
      "outputs": []
    },
    {
      "cell_type": "code",
      "source": [
        "## Let's start with getting some information about our table. What is a quick way to do so?\n"
      ],
      "metadata": {
        "id": "x5nRpNGmb87V"
      },
      "execution_count": null,
      "outputs": []
    },
    {
      "cell_type": "code",
      "source": [
        "## I want to narrow down my tables to only include Fungi, how would I go about that?\n"
      ],
      "metadata": {
        "id": "NS1WurA-ehTZ"
      },
      "execution_count": null,
      "outputs": []
    },
    {
      "cell_type": "code",
      "source": [
        "## Let's further narrow down the table to look at Funggi that has genome size > 100. How many specimens remain?\n"
      ],
      "metadata": {
        "id": "aImPLPTXevjV"
      },
      "execution_count": 9,
      "outputs": []
    },
    {
      "cell_type": "code",
      "source": [
        "## Which species are in our table, that is Fungi with genome size > 100 Mb\n"
      ],
      "metadata": {
        "id": "9feGpgCefKM3"
      },
      "execution_count": null,
      "outputs": []
    },
    {
      "cell_type": "markdown",
      "source": [
        "Next class we will do some more data exploration"
      ],
      "metadata": {
        "id": "Nq2mtZ6Tfgto"
      }
    }
  ],
  "metadata": {
    "kernelspec": {
      "display_name": "Python 3",
      "language": "python",
      "name": "python3"
    },
    "language_info": {
      "codemirror_mode": {
        "name": "ipython",
        "version": 3
      },
      "file_extension": ".py",
      "mimetype": "text/x-python",
      "name": "python",
      "nbconvert_exporter": "python",
      "pygments_lexer": "ipython3",
      "version": "3.7.6"
    },
    "colab": {
      "provenance": []
    }
  },
  "nbformat": 4,
  "nbformat_minor": 0
}