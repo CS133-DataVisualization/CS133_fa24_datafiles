{
  "nbformat": 4,
  "nbformat_minor": 0,
  "metadata": {
    "kernelspec": {
      "display_name": "Python 3",
      "language": "python",
      "name": "python3"
    },
    "language_info": {
      "codemirror_mode": {
        "name": "ipython",
        "version": 3
      },
      "file_extension": ".py",
      "mimetype": "text/x-python",
      "name": "python",
      "nbconvert_exporter": "python",
      "pygments_lexer": "ipython3",
      "version": "3.7.6"
    },
    "colab": {
      "provenance": []
    }
  },
  "cells": [
    {
      "cell_type": "markdown",
      "metadata": {
        "id": "pYR3GVSy4_t3"
      },
      "source": [
        "## Use barcharts and heatmaps to visualize patterns in your data\n",
        "IGN Game Reviews provide scores from experts for the most recent game releases, ranging from 0 (Disaster) to 10 (Masterpiece).\n",
        "<img src=\"https://i.imgur.com/Oh06Fu1.png\">\n",
        "\n",
        "\n"
      ]
    },
    {
      "cell_type": "markdown",
      "metadata": {
        "id": "2FKItCxd4_t6"
      },
      "source": [
        "## Load the data\n",
        "1. Read the IGN data file into a dataframe named `ign_scores`.  \n",
        "2. Use the `\"Platform\"` column to label the rows."
      ]
    },
    {
      "cell_type": "code",
      "metadata": {
        "id": "cfPoQzAB4_t7"
      },
      "source": [
        "import pandas as pd\n",
        "import seaborn as sns\n",
        "import matplotlib.pyplot as plt\n",
        "\n",
        "IGN=\"https://raw.githubusercontent.com/csbfx/advpy122-data/master/ign_scores.csv\"\n",
        "## Your code here . . ."
      ],
      "execution_count": null,
      "outputs": []
    },
    {
      "cell_type": "markdown",
      "metadata": {
        "id": "I34DtWGf4_t8"
      },
      "source": [
        "## Problem 1 - (1 point)\n",
        "Use the dataframe ign_scores and write one line of code to determine the highest score received by any kind of games on the Wii platform?"
      ]
    },
    {
      "cell_type": "code",
      "metadata": {
        "id": "TCFObgXP4_t8"
      },
      "source": [
        "## Your code here\n"
      ],
      "execution_count": null,
      "outputs": []
    },
    {
      "cell_type": "markdown",
      "metadata": {
        "id": "2IxUbRJl4_t9"
      },
      "source": [
        "## Problem 2 - (1 point)\n",
        "Use the dataframe `ign_scores` to determine which genre has the lowest score for the `PlayStation Vita` platform."
      ]
    },
    {
      "cell_type": "code",
      "metadata": {
        "id": "yxArb7O64_t9"
      },
      "source": [
        "## Your code here\n"
      ],
      "execution_count": null,
      "outputs": []
    },
    {
      "cell_type": "markdown",
      "metadata": {
        "id": "Du06oMIc4_t9"
      },
      "source": [
        "## Problem 3 -  (2 points)\n",
        "Your instructor's favorite video game has been Mario Kart Wii, a racing game released for the Wii platform in 2008. And, IGN agrees with her that it is a great game -- their rating for this game is a whopping 8.9! Inspired by the success of this game, your instructor is considering creating your very own racing game for the Wii platform. Perform the following analyses to help her determine which platform she should focus on.\n",
        "\n",
        "1. Create a bar chart that shows the score for *Racing* games, for each platform. Your chart should have one bar for each platform. Provide a meaningful title to the plot.\n",
        "\n",
        "2. Based on the bar chart, do you expect a racing game for the **Wii** platform to receive a high rating?  If not, use the pandas to find out from the dataframe `ign_scores` which gaming platform is the best for racing game?"
      ]
    },
    {
      "cell_type": "code",
      "metadata": {
        "id": "q6JUyxbq4_t-"
      },
      "source": [
        "# (1 point)\n",
        "# Set the width and height of the figure\n",
        "# Your code here . . ."
      ],
      "execution_count": null,
      "outputs": []
    },
    {
      "cell_type": "code",
      "metadata": {
        "id": "qAsinzWK4_t-"
      },
      "source": [
        "## (1 point)\n",
        "## Use ign_scores to determine which gaming platform is the best\n",
        "## for racing game.\n",
        "\n",
        "## Your code here . . ."
      ],
      "execution_count": null,
      "outputs": []
    },
    {
      "cell_type": "markdown",
      "metadata": {
        "id": "Hyn29Rwa4_t_"
      },
      "source": [
        "#### Problem 4 - (2 points)\n",
        "Since your instructor's gaming interests are pretty broad, you can help her decide to use the IGN scores to determine the choice of genre and platform.\n",
        "\n",
        "1. Create a heatmap using the IGN scores by genre and platform and include the scores in the cells of the heatmap.\n",
        "2. Base on the heatmap, which combination of genre and platform receives the highest average ratings?  Which combination receives the lowest average rankings? Write the answers in a markdown cell."
      ]
    },
    {
      "cell_type": "code",
      "metadata": {
        "id": "wLHY-_aC4_t_"
      },
      "source": [
        "## Create a heatmap\n",
        "# Your code here . . .\n"
      ],
      "execution_count": null,
      "outputs": []
    },
    {
      "cell_type": "markdown",
      "metadata": {
        "id": "ctiOFHVA4_uA"
      },
      "source": [
        "## Problem 5 - (4 points)\n",
        "Use the Pokemon dataset to create a clustermap with color. First, filter the dataframe to only keep data with `Type 1` equals to following values: `Water`, `Normal`, `Grass`, `Bug` and `Psychic`. Annotate the dendrogram using different colors for these five different `Type 1` values. Use `Name` as the index.\n",
        "\n",
        "pokemon_data is in https://raw.githubusercontent.com/csbfx/advpy122-data/master/Pokemon.csv"
      ]
    },
    {
      "cell_type": "code",
      "metadata": {
        "id": "LGLKQ4v14_uC"
      },
      "source": [
        "# Problem 5\n",
        "# Your code here . . ."
      ],
      "execution_count": null,
      "outputs": []
    }
  ]
}