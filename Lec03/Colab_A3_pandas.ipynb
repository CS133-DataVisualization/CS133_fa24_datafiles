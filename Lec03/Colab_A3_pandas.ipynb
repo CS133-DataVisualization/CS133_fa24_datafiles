{
  "cells": [
    {
      "cell_type": "markdown",
      "metadata": {
        "id": "XJ1mwR5usgHb"
      },
      "source": [
        "## **Working with Python DataFrame**\n",
        "\n",
        "### **Learning outcome:**\n",
        "- To learn to examine tabular raw data with a pandas dataframe\n",
        "- To learn to filter data from a dataframe using index- or label-based selection.\n",
        "\n",
        "\n",
        "####  **Crime Rates Dataset**\n",
        "##### Load the dataset via a URL"
      ]
    },
    {
      "cell_type": "code",
      "execution_count": 1,
      "metadata": {
        "id": "kQ8FudMKsgHd",
        "colab": {
          "base_uri": "https://localhost:8080/"
        },
        "outputId": "1211c303-92fb-4dd7-e6a1-cfac4ba811df"
      },
      "outputs": [
        {
          "output_type": "stream",
          "name": "stdout",
          "text": [
            "2.1.4\n"
          ]
        }
      ],
      "source": [
        "## Importing libraries\n",
        "# import pandas as pd\n",
        "# pd.options.display.float_format = \"{:,.2f}\".format"
      ]
    },
    {
      "cell_type": "code",
      "execution_count": 2,
      "metadata": {
        "id": "QL2iXjmasgHf"
      },
      "outputs": [],
      "source": [
        "## Read in data set and converting it to a pandas dataframe\n",
        "# crime_rates = pd.read_csv('https://raw.githubusercontent.com/' +\n",
        "#                       'csbfx/advpy122-data/master/crime_rates.csv')"
      ]
    },
    {
      "cell_type": "code",
      "execution_count": 3,
      "metadata": {
        "id": "I6ZDTAt9sgHg"
      },
      "outputs": [],
      "source": [
        "## Let's take a look at the dataframe using head()\n",
        "# crime_rates.head()"
      ]
    },
    {
      "cell_type": "code",
      "execution_count": 4,
      "metadata": {
        "id": "y0MALWLvsgHh"
      },
      "outputs": [],
      "source": [
        "## Get a description of the dataframe\n",
        "# crime_rates.info()"
      ]
    },
    {
      "cell_type": "code",
      "execution_count": 5,
      "metadata": {
        "id": "MXIu_ZPmsgHi"
      },
      "outputs": [],
      "source": [
        "## Customize the dataframe using our column names.\n",
        "## There is another way to do this where you can assign the column name to a list first. See if you can try both ways\n",
        "# crime_rates.columns = ['state', 'year', 'pop', 'violent', 'murder',\n",
        "#                        'rape', 'robbery', 'assault', 'property',\n",
        "#                        'burglary', 'larceny','vehicle']"
      ]
    },
    {
      "cell_type": "code",
      "execution_count": 6,
      "metadata": {
        "id": "eYtR6YMgsgHj"
      },
      "outputs": [],
      "source": [
        "## Let's look at our dataframe again\n",
        "# crime_rates.head(3)"
      ]
    },
    {
      "cell_type": "markdown",
      "metadata": {
        "id": "-xSZ68wesgHj"
      },
      "source": [
        "## Select data from DataFrame\n",
        "You can select rows with sepcific column value that you specify"
      ]
    },
    {
      "cell_type": "code",
      "execution_count": 7,
      "metadata": {
        "id": "XSB-FG7isgHk"
      },
      "outputs": [],
      "source": [
        "# alaska_crimes = crime_rates[crime_rates['state']=='Alaska']\n",
        "# alaska_crimes.head(5)"
      ]
    },
    {
      "cell_type": "markdown",
      "metadata": {
        "id": "yC0_J935sgHk"
      },
      "source": [
        "### Indexing in pandas\n",
        "The indexing operator and attribute selection are nice because they work just like they do in the rest of the Python ecosystem. As a novice, this makes them easy to pick up and use. However, pandas has its own accessor operators, `iloc` and `loc`. For more advanced operations, these are the ones you're supposed to be using.\n",
        "\n",
        "#### Index-based selection\n",
        "Pandas indexing works in one of two paradigms. The first is index-based selection: selecting data based on its numerical position in the data.`iloc` follows this paradigm.\n",
        "\n",
        "To select the first row of data in a DataFrame, we may use the following:"
      ]
    },
    {
      "cell_type": "code",
      "execution_count": 8,
      "metadata": {
        "id": "HFZ1l0dfsgHk"
      },
      "outputs": [],
      "source": [
        "# crime_rates.iloc[0] # first row"
      ]
    },
    {
      "cell_type": "code",
      "source": [
        "''' Python index\n",
        "[start:stop:skip] # stop is exclusive [1:3] --> index 1 & 2.\n",
        "[1::2, :] # from the 2nd row all the way to the end every other row, and all the columns\n",
        "[:, :3] # all rows, from the beginning to the 3rd column (0, 1, 2)\n",
        "'''\n",
        "\n",
        "# crime_rates.iloc[0:10:2, 3:5]"
      ],
      "metadata": {
        "colab": {
          "base_uri": "https://localhost:8080/",
          "height": 53
        },
        "id": "UDTMa0pksmMm",
        "outputId": "95cc35a3-7db5-45d4-8270-612534cf4ade"
      },
      "execution_count": 9,
      "outputs": [
        {
          "output_type": "execute_result",
          "data": {
            "text/plain": [
              "' Python index\\n[start:stop:skip] # stop is exclusive [1:3] --> index 1 & 2.\\n[1::2, :] # from the 2nd row all the way to the end every other row, and all the columns\\n[:, :3] # all rows, from the beginning to the 3rd column (0, 1, 2)\\n'"
            ],
            "application/vnd.google.colaboratory.intrinsic+json": {
              "type": "string"
            }
          },
          "metadata": {},
          "execution_count": 9
        }
      ]
    },
    {
      "cell_type": "markdown",
      "metadata": {
        "id": "7dq4vHjjsgHl"
      },
      "source": [
        "Both `loc` and `iloc` are row-first, column-second. This is the opposite of what we do in native Python, which is column-first, row-second.\n",
        "\n",
        "This means that it's marginally easier to retrieve rows, and marginally harder to get retrieve columns. To get a column with `iloc`, we can do the following:"
      ]
    },
    {
      "cell_type": "code",
      "execution_count": 10,
      "metadata": {
        "id": "9D45Nl1LsgHl"
      },
      "outputs": [],
      "source": [
        "# crime_rates.iloc[:, 0] # all rows, first column"
      ]
    },
    {
      "cell_type": "markdown",
      "metadata": {
        "id": "BWIePPOrsgHl"
      },
      "source": [
        "On its own, the `:` operator, which also comes from native Python, means \"everything\". When combined with other selectors, however, it can be used to indicate a range of values. For example, to select the country column from just the first, second, and third row, we would do:"
      ]
    },
    {
      "cell_type": "code",
      "execution_count": 11,
      "metadata": {
        "id": "mkvXbX9PsgHm"
      },
      "outputs": [],
      "source": [
        "# crime_rates.iloc[:3, 3:]"
      ]
    },
    {
      "cell_type": "markdown",
      "metadata": {
        "id": "Ufrn12I6sgHm"
      },
      "source": [
        "#### Label-based selection\n",
        "The second paradigm for attribute selection is the one followed by the loc operator: label-based selection. In this paradigm, it's the data index value, not its position, which matters."
      ]
    },
    {
      "cell_type": "code",
      "execution_count": 12,
      "metadata": {
        "id": "G5r7Wy7ZsgHm"
      },
      "outputs": [],
      "source": [
        "# crime_rates.loc[:, ['year', 'state', 'pop']]"
      ]
    },
    {
      "cell_type": "markdown",
      "metadata": {
        "id": "ot2Z0HgvsgHm"
      },
      "source": [
        "## Simple data analysis\n",
        "Let's take a look at the crime rates in Alaska throughout the years."
      ]
    },
    {
      "cell_type": "code",
      "execution_count": null,
      "metadata": {
        "scrolled": true,
        "colab": {
          "base_uri": "https://localhost:8080/",
          "height": 237
        },
        "id": "rsgdfqaEsgHn",
        "outputId": "89c3b899-14cc-41f9-9328-7a9f3fe2111e"
      },
      "outputs": [
        {
          "output_type": "execute_result",
          "data": {
            "text/plain": [
              "       state     pop  violent  murder  rape  robbery  assault  property  \\\n",
              "year                                                                      \n",
              "1960  Alaska  226167   104.30   10.20 20.80    28.30    45.10  1,544.90   \n",
              "1961  Alaska  234000    88.90   11.50 13.20    12.40    51.70  1,540.60   \n",
              "1962  Alaska  246000    91.50    4.50 18.70    13.80    54.50  1,564.60   \n",
              "1963  Alaska  248000   109.70    6.50 14.90    22.20    66.10  1,952.80   \n",
              "1964  Alaska  250000   150.00   10.40 22.40    21.20    96.00  2,016.00   \n",
              "\n",
              "      burglary  larceny  vehicle  \n",
              "year                              \n",
              "1960    332.10   970.50   242.30  \n",
              "1961    380.80   950.00   209.80  \n",
              "1962    351.60   985.40   227.60  \n",
              "1963    381.50 1,213.70   357.70  \n",
              "1964    443.60 1,218.40   354.00  "
            ],
            "text/html": [
              "\n",
              "  <div id=\"df-339afe2e-cf56-4e3b-aefd-d8953130f03d\">\n",
              "    <div class=\"colab-df-container\">\n",
              "      <div>\n",
              "<style scoped>\n",
              "    .dataframe tbody tr th:only-of-type {\n",
              "        vertical-align: middle;\n",
              "    }\n",
              "\n",
              "    .dataframe tbody tr th {\n",
              "        vertical-align: top;\n",
              "    }\n",
              "\n",
              "    .dataframe thead th {\n",
              "        text-align: right;\n",
              "    }\n",
              "</style>\n",
              "<table border=\"1\" class=\"dataframe\">\n",
              "  <thead>\n",
              "    <tr style=\"text-align: right;\">\n",
              "      <th></th>\n",
              "      <th>state</th>\n",
              "      <th>pop</th>\n",
              "      <th>violent</th>\n",
              "      <th>murder</th>\n",
              "      <th>rape</th>\n",
              "      <th>robbery</th>\n",
              "      <th>assault</th>\n",
              "      <th>property</th>\n",
              "      <th>burglary</th>\n",
              "      <th>larceny</th>\n",
              "      <th>vehicle</th>\n",
              "    </tr>\n",
              "    <tr>\n",
              "      <th>year</th>\n",
              "      <th></th>\n",
              "      <th></th>\n",
              "      <th></th>\n",
              "      <th></th>\n",
              "      <th></th>\n",
              "      <th></th>\n",
              "      <th></th>\n",
              "      <th></th>\n",
              "      <th></th>\n",
              "      <th></th>\n",
              "      <th></th>\n",
              "    </tr>\n",
              "  </thead>\n",
              "  <tbody>\n",
              "    <tr>\n",
              "      <th>1960</th>\n",
              "      <td>Alaska</td>\n",
              "      <td>226167</td>\n",
              "      <td>104.30</td>\n",
              "      <td>10.20</td>\n",
              "      <td>20.80</td>\n",
              "      <td>28.30</td>\n",
              "      <td>45.10</td>\n",
              "      <td>1,544.90</td>\n",
              "      <td>332.10</td>\n",
              "      <td>970.50</td>\n",
              "      <td>242.30</td>\n",
              "    </tr>\n",
              "    <tr>\n",
              "      <th>1961</th>\n",
              "      <td>Alaska</td>\n",
              "      <td>234000</td>\n",
              "      <td>88.90</td>\n",
              "      <td>11.50</td>\n",
              "      <td>13.20</td>\n",
              "      <td>12.40</td>\n",
              "      <td>51.70</td>\n",
              "      <td>1,540.60</td>\n",
              "      <td>380.80</td>\n",
              "      <td>950.00</td>\n",
              "      <td>209.80</td>\n",
              "    </tr>\n",
              "    <tr>\n",
              "      <th>1962</th>\n",
              "      <td>Alaska</td>\n",
              "      <td>246000</td>\n",
              "      <td>91.50</td>\n",
              "      <td>4.50</td>\n",
              "      <td>18.70</td>\n",
              "      <td>13.80</td>\n",
              "      <td>54.50</td>\n",
              "      <td>1,564.60</td>\n",
              "      <td>351.60</td>\n",
              "      <td>985.40</td>\n",
              "      <td>227.60</td>\n",
              "    </tr>\n",
              "    <tr>\n",
              "      <th>1963</th>\n",
              "      <td>Alaska</td>\n",
              "      <td>248000</td>\n",
              "      <td>109.70</td>\n",
              "      <td>6.50</td>\n",
              "      <td>14.90</td>\n",
              "      <td>22.20</td>\n",
              "      <td>66.10</td>\n",
              "      <td>1,952.80</td>\n",
              "      <td>381.50</td>\n",
              "      <td>1,213.70</td>\n",
              "      <td>357.70</td>\n",
              "    </tr>\n",
              "    <tr>\n",
              "      <th>1964</th>\n",
              "      <td>Alaska</td>\n",
              "      <td>250000</td>\n",
              "      <td>150.00</td>\n",
              "      <td>10.40</td>\n",
              "      <td>22.40</td>\n",
              "      <td>21.20</td>\n",
              "      <td>96.00</td>\n",
              "      <td>2,016.00</td>\n",
              "      <td>443.60</td>\n",
              "      <td>1,218.40</td>\n",
              "      <td>354.00</td>\n",
              "    </tr>\n",
              "  </tbody>\n",
              "</table>\n",
              "</div>\n",
              "      <button class=\"colab-df-convert\" onclick=\"convertToInteractive('df-339afe2e-cf56-4e3b-aefd-d8953130f03d')\"\n",
              "              title=\"Convert this dataframe to an interactive table.\"\n",
              "              style=\"display:none;\">\n",
              "        \n",
              "  <svg xmlns=\"http://www.w3.org/2000/svg\" height=\"24px\"viewBox=\"0 0 24 24\"\n",
              "       width=\"24px\">\n",
              "    <path d=\"M0 0h24v24H0V0z\" fill=\"none\"/>\n",
              "    <path d=\"M18.56 5.44l.94 2.06.94-2.06 2.06-.94-2.06-.94-.94-2.06-.94 2.06-2.06.94zm-11 1L8.5 8.5l.94-2.06 2.06-.94-2.06-.94L8.5 2.5l-.94 2.06-2.06.94zm10 10l.94 2.06.94-2.06 2.06-.94-2.06-.94-.94-2.06-.94 2.06-2.06.94z\"/><path d=\"M17.41 7.96l-1.37-1.37c-.4-.4-.92-.59-1.43-.59-.52 0-1.04.2-1.43.59L10.3 9.45l-7.72 7.72c-.78.78-.78 2.05 0 2.83L4 21.41c.39.39.9.59 1.41.59.51 0 1.02-.2 1.41-.59l7.78-7.78 2.81-2.81c.8-.78.8-2.07 0-2.86zM5.41 20L4 18.59l7.72-7.72 1.47 1.35L5.41 20z\"/>\n",
              "  </svg>\n",
              "      </button>\n",
              "      \n",
              "  <style>\n",
              "    .colab-df-container {\n",
              "      display:flex;\n",
              "      flex-wrap:wrap;\n",
              "      gap: 12px;\n",
              "    }\n",
              "\n",
              "    .colab-df-convert {\n",
              "      background-color: #E8F0FE;\n",
              "      border: none;\n",
              "      border-radius: 50%;\n",
              "      cursor: pointer;\n",
              "      display: none;\n",
              "      fill: #1967D2;\n",
              "      height: 32px;\n",
              "      padding: 0 0 0 0;\n",
              "      width: 32px;\n",
              "    }\n",
              "\n",
              "    .colab-df-convert:hover {\n",
              "      background-color: #E2EBFA;\n",
              "      box-shadow: 0px 1px 2px rgba(60, 64, 67, 0.3), 0px 1px 3px 1px rgba(60, 64, 67, 0.15);\n",
              "      fill: #174EA6;\n",
              "    }\n",
              "\n",
              "    [theme=dark] .colab-df-convert {\n",
              "      background-color: #3B4455;\n",
              "      fill: #D2E3FC;\n",
              "    }\n",
              "\n",
              "    [theme=dark] .colab-df-convert:hover {\n",
              "      background-color: #434B5C;\n",
              "      box-shadow: 0px 1px 3px 1px rgba(0, 0, 0, 0.15);\n",
              "      filter: drop-shadow(0px 1px 2px rgba(0, 0, 0, 0.3));\n",
              "      fill: #FFFFFF;\n",
              "    }\n",
              "  </style>\n",
              "\n",
              "      <script>\n",
              "        const buttonEl =\n",
              "          document.querySelector('#df-339afe2e-cf56-4e3b-aefd-d8953130f03d button.colab-df-convert');\n",
              "        buttonEl.style.display =\n",
              "          google.colab.kernel.accessAllowed ? 'block' : 'none';\n",
              "\n",
              "        async function convertToInteractive(key) {\n",
              "          const element = document.querySelector('#df-339afe2e-cf56-4e3b-aefd-d8953130f03d');\n",
              "          const dataTable =\n",
              "            await google.colab.kernel.invokeFunction('convertToInteractive',\n",
              "                                                     [key], {});\n",
              "          if (!dataTable) return;\n",
              "\n",
              "          const docLinkHtml = 'Like what you see? Visit the ' +\n",
              "            '<a target=\"_blank\" href=https://colab.research.google.com/notebooks/data_table.ipynb>data table notebook</a>'\n",
              "            + ' to learn more about interactive tables.';\n",
              "          element.innerHTML = '';\n",
              "          dataTable['output_type'] = 'display_data';\n",
              "          await google.colab.output.renderOutput(dataTable, element);\n",
              "          const docLink = document.createElement('div');\n",
              "          docLink.innerHTML = docLinkHtml;\n",
              "          element.appendChild(docLink);\n",
              "        }\n",
              "      </script>\n",
              "    </div>\n",
              "  </div>\n",
              "  "
            ]
          },
          "metadata": {},
          "execution_count": 10
        }
      ],
      "source": [
        "# ### Select crimes data for state of Alaska\n",
        "# alaska_crimes = crime_rates[crime_rates['state']=='Alaska']\n",
        "# ### Set the year as the index of the DataFrame\n",
        "# alaska_crimes_by_year = alaska_crimes.set_index('year')\n",
        "# alaska_crimes_by_year.head(5)"
      ]
    },
    {
      "cell_type": "code",
      "execution_count": null,
      "metadata": {
        "colab": {
          "base_uri": "https://localhost:8080/",
          "height": 279
        },
        "id": "cM1g8MGGsgHn",
        "outputId": "b9eb682a-bc91-4cfb-8c06-c9ac8d9dda5b"
      },
      "outputs": [
        {
          "output_type": "display_data",
          "data": {
            "image/png": "[encoded data removed]",
            "text/plain": [
              "<Figure size 432x288 with 1 Axes>"
            ]
          },
          "metadata": {
            "needs_background": "light"
          }
        }
      ],
      "source": [
        "# ### Use iloc to select all rows and all the columns about crime rates\n",
        "# ### Use plot.line() to create a line plot\n",
        "# lines = alaska_crimes_by_year.iloc[:,2:].plot.line()"
      ]
    },
    {
      "cell_type": "markdown",
      "metadata": {
        "id": "7K0UHPQGsgHn"
      },
      "source": [
        "## Your turn.\n",
        "- Select data from crime_rates dataframe where state equals to \"California\" and year is between 1980 and 2003, inclusively. *Hint: Use `&` to combine two conditions*.\n",
        "- Create a line plot where the horizontal axis is year and vertical axis is the number of crime cases."
      ]
    },
    {
      "cell_type": "code",
      "execution_count": null,
      "metadata": {
        "id": "VJOq8EncsgHn"
      },
      "outputs": [],
      "source": [
        "# Your code here . . ."
      ]
    },
    {
      "cell_type": "markdown",
      "metadata": {
        "id": "gKvaJ9tYsgHn"
      },
      "source": [
        "## It's still your turn ... to make another plot\n",
        "* We can't clearly see the trends for the lines that are below 1000  on the y-axis. How about generate another plot, including data for all years, and exclude data for burglary, larceny, and property."
      ]
    },
    {
      "cell_type": "code",
      "execution_count": null,
      "metadata": {
        "id": "ppvcWN6ssgHo"
      },
      "outputs": [],
      "source": [
        "# Your code here . . ."
      ]
    },
    {
      "cell_type": "markdown",
      "metadata": {
        "id": "EBb5Dvv6sgHo"
      },
      "source": [
        "## One more plot\n",
        "Create a line plot to show the California population number over the years. Year will be on horizontal axis and population number will be on the y-axis. Remove the legend from the plot."
      ]
    },
    {
      "cell_type": "code",
      "execution_count": null,
      "metadata": {
        "id": "zrFgZSTqsgHo"
      },
      "outputs": [],
      "source": [
        "# Your code here . . ."
      ]
    }
  ],
  "metadata": {
    "kernelspec": {
      "display_name": "Python 3",
      "language": "python",
      "name": "python3"
    },
    "language_info": {
      "codemirror_mode": {
        "name": "ipython",
        "version": 3
      },
      "file_extension": ".py",
      "mimetype": "text/x-python",
      "name": "python",
      "nbconvert_exporter": "python",
      "pygments_lexer": "ipython3",
      "version": "3.7.6"
    },
    "colab": {
      "provenance": []
    }
  },
  "nbformat": 4,
  "nbformat_minor": 0
}
